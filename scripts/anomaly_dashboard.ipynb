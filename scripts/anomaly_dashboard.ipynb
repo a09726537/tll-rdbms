{
 "cells": [
  {
   "cell_type": "markdown",
   "metadata": {},
   "source": [
    "# anomaly_dashboard.ipynb\n",
    "### Interactive Anomaly Dashboard for SQL Logs\n",
    "**Author**: Dr. William Kandolo  \n",
    "**Purpose**: Visual exploration of anomaly scores and ground truth labels\n",
    "**Input**: sql_train.csv (with 'anomaly_score' and 'anomaly' columns)"
   ]
  },
  {
   "cell_type": "code",
   "execution_count": null,
   "metadata": {},
   "outputs": [],
   "source": [
    "# STEP 1: IMPORTS\n",
    "import pandas as pd\n",
    "import numpy as np\n",
    "import matplotlib.pyplot as plt\n",
    "import plotly.express as px\n",
    "import seaborn as sns\n",
    "from IPython.display import display\n",
    "import ipywidgets as widgets"
   ]
  },
  {
   "cell_type": "code",
   "execution_count": null,
   "metadata": {},
   "outputs": [],
   "source": [
    "# STEP 2: LOAD DATA\n",
    "df = pd.read_csv('datasets/sql_train.csv')"
   ]
  },
  {
   "cell_type": "code",
   "execution_count": null,
   "metadata": {},
   "outputs": [],
   "source": [
    "# STEP 3: CHECK REQUIRED COLUMNS\n",
    "required_cols = ['timestamp', 'anomaly_score', 'anomaly']\n",
    "for col in required_cols:\n",
    "    if col not in df.columns:\n",
    "        raise ValueError(f\"Missing column: {col}\")\n",
    "df['timestamp'] = pd.to_datetime(df['timestamp'], errors='coerce')\n",
    "df = df.dropna(subset=['timestamp'])"
   ]
  },
  {
   "cell_type": "code",
   "execution_count": null,
   "metadata": {},
   "outputs": [],
   "source": [
    "# STEP 4: OVERVIEW STATISTICS\n",
    "print(\"Data shape:\", df.shape)\n",
    "print(\"Anomaly rate:\", df['anomaly'].mean())"
   ]
  },
  {
   "cell_type": "code",
   "execution_count": null,
   "metadata": {},
   "outputs": [],
   "source": [
    "# STEP 5: TIME SERIES PLOT\n",
    "fig1 = px.line(df, x='timestamp', y='anomaly_score',\n",
    "               color=df['anomaly'].map({0: 'Normal', 1: 'Anomaly'}),\n",
    "               title='Anomaly Score Over Time')\n",
    "fig1.update_layout(legend_title='Event Type')\n",
    "fig1.show()"
   ]
  },
  {
   "cell_type": "code",
   "execution_count": null,
   "metadata": {},
   "outputs": [],
   "source": [
    "# STEP 6: HISTOGRAM OF ANOMALY SCORES\n",
    "fig2 = px.histogram(df, x='anomaly_score', nbins=50,\n",
    "                    color=df['anomaly'].map({0: 'Normal', 1: 'Anomaly'}),\n",
    "                    title='Distribution of Anomaly Scores')\n",
    "fig2.show()"
   ]
  },
  {
   "cell_type": "code",
   "execution_count": null,
   "metadata": {},
   "outputs": [],
   "source": [
    "# STEP 7: FEATURE HEATMAP\n",
    "feature_cols = df.select_dtypes(include=[np.number]).drop(columns=['anomaly_score', 'anomaly']).columns\n",
    "plt.figure(figsize=(12, 6))\n",
    "sns.heatmap(df[feature_cols].corr(), cmap='coolwarm', annot=False)\n",
    "plt.title(\"Feature Correlation Heatmap\")\n",
    "plt.tight_layout()\n",
    "plt.show()"
   ]
  },
  {
   "cell_type": "code",
   "execution_count": null,
   "metadata": {},
   "outputs": [],
   "source": [
    "# STEP 8: INTERACTIVE SLIDER\n",
    "score_slider = widgets.FloatRangeSlider(\n",
    "    value=[0.2, 0.8],\n",
    "    min=0.0,\n",
    "    max=1.0,\n",
    "    step=0.01,\n",
    "    description='Score range:',\n",
    "    continuous_update=False\n",
    ")\n",
    "\n",
    "def filter_and_show(range_vals):\n",
    "    low, high = range_vals\n",
    "    filtered = df[(df['anomaly_score'] >= low) & (df['anomaly_score'] <= high)]\n",
    "    display(filtered[['timestamp', 'anomaly_score', 'anomaly']].head(20))\n",
    "\n",
    "widgets.interact(filter_and_show, range_vals=score_slider)"
   ]
  }
 ],
 "metadata": {
  "kernelspec": {
   "display_name": "Python 3",
   "language": "python",
   "name": "python3"
  },
  "language_info": {
   "name": "python",
   "version": "3.8"
  }
 },
 "nbformat": 4,
 "nbformat_minor": 4
}
